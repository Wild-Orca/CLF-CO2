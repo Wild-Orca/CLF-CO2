{
 "cells": [
  {
   "cell_type": "markdown",
   "id": "b85b76b1-b51e-46ff-8472-a914cb87f312",
   "metadata": {},
   "source": [
    "<h1>Domain 2: Security and Compliance</h1>"
   ]
  },
  {
   "cell_type": "markdown",
   "id": "531972d7-b93b-47b3-a410-8d3313864657",
   "metadata": {},
   "source": [
    "<h3>Define the AWS Shared Responsibility Model</h3>\n",
    "\n",
    "<strong>AWS Responsibility:</strong> AWS manages security of the cloud. This includes hardware, software, networking, and facilities.\n",
    "<br><strong>Customer Responsibility:</strong> Customers manage security in the cloud. This includes data, identity and access management, and securing application layers.\n",
    "<br><strong>Examples:</strong> AWS handles physical infrastructure security, while customers are responsible for patching their own EC2 instances."
   ]
  },
  {
   "cell_type": "markdown",
   "id": "872047ab-841f-43e8-bb01-415ff3e5dfd9",
   "metadata": {},
   "source": [
    "<h3>Define AWS Cloud Security and Compliance Concepts</h3>\n",
    "\n",
    "<strong>Identity and Access Management (IAM):</strong>\n",
    "\n",
    "    IAM Users: Individuals with specific permissions.\n",
    "    IAM Groups: Collection of users with shared permissions.\n",
    "    IAM Roles: Temporary permissions for AWS services or users from other AWS accounts.\n",
    "    IAM Policies: JSON documents defining permissions, allowing or denying access.\n",
    "\n",
    "<strong>Multi-Factor Authentication (MFA):</strong> Adds an extra layer of protection to user sign-ins by requiring two forms of authentication.\n",
    "\n",
    "<strong>Encryption:</strong>\n",
    "\n",
    "    Data at Rest: Encrypt data stored in AWS using services like Amazon S3 or AWS KMS.\n",
    "    Data in Transit: Use protocols like HTTPS for encryption.\n",
    "\n",
    "<strong>AWS Key Management Service (KMS):</strong> Manages encryption keys for applications and services.\n",
    "<strong>Amazon GuardDuty:</strong> Threat detection service that continuously monitors for malicious activity and unauthorized behavior.\n",
    "\n",
    "<strong>AWS Shield:</strong> DDoS protection service\n",
    "\n",
    "    Standard: Automatic protection for all AWS customers.\n",
    "    Advanced: Provides additional detection and mitigations for sophisticated attacks.\n",
    "\n",
    "<strong>Amazon Inspector:</strong> Automatically assesses applications for vulnerabilities and security issues."
   ]
  },
  {
   "cell_type": "markdown",
   "id": "7c172862-43d2-4141-8044-1c324f942002",
   "metadata": {},
   "source": [
    "<h3>Identify AWS Access Management Capabilities</h3>\n",
    "\n",
    "<strong>IAM Access Keys:</strong> For programmatic access to AWS resources.\n",
    "<br><strong>AWS Organizations:</strong> Centralized management of multiple AWS accounts. Includes features like consolidated billing and service control policies (SCPs).\n",
    "<br><strong>Service Control Policies (SCPs):</strong> Control access to services across AWS accounts in an organization.\n",
    "<br><strong>AWS Single Sign-On (SSO):</strong> Centralized access for users across multiple AWS accounts and applications.\n",
    "<br><strong>AWS Directory Service:</strong> Integrates AWS resources with existing Microsoft Active Directory."
   ]
  },
  {
   "cell_type": "markdown",
   "id": "ac6a0935-4f75-487a-86aa-eeaf1361ed31",
   "metadata": {},
   "source": [
    "<h3>Identify Resources for Security Support</h3>\n",
    "\n",
    "<strong>AWS Compliance Programs:</strong> AWS meets a wide range of industry standards (e.g., PCI-DSS, HIPAA, SOC, GDPR).\n",
    "<br><strong>AWS Artifact:</strong> Self-service portal for on-demand access to AWS compliance reports (SOC, PCI, etc.).\n",
    "<br><strong>AWS Trusted Advisor:</strong> Security checks, cost optimization, and performance improvement recommendations.\n",
    "<br><strong>AWS Security Hub:</strong> Centralized view of security alerts and compliance status across AWS accounts.\n",
    "<br><strong>AWS Well-Architected Tool:</strong> Includes security best practices, such as enabling logging and monitoring."
   ]
  },
  {
   "cell_type": "markdown",
   "id": "c0036627-e8ab-48f5-af53-cdac28ef7d54",
   "metadata": {},
   "source": [
    "<h3>Explain the Different Security Services and Tools</h3>\n",
    "\n",
    "<strong>Amazon CloudWatch:</strong> Monitoring service for AWS resources and applications, with features like alarms and logs.\n",
    "<br><strong>AWS CloudTrail:</strong> Tracks user activity and API usage, storing logs of all actions for auditing.\n",
    "<br><strong>AWS Config:</strong> Monitors resource configurations and alerts for non-compliance with predefined rules.\n",
    "<br><strong>AWS WAF (Web Application Firewall):</strong> Protects web applications from common threats like SQL injection and cross-site scripting.\n",
    "<br><strong>Amazon Macie:</strong> Identifies sensitive data stored in Amazon S3, like PII (Personally Identifiable Information)."
   ]
  },
  {
   "cell_type": "markdown",
   "id": "71702d93-49bf-4c2d-9e14-289475444ebd",
   "metadata": {},
   "source": [
    "<h3>Understanding Incident Response</h3>\n",
    "\n",
    "<strong>Incident Response Plan:</strong> AWS provides the tools and services to help you detect, respond, and recover from security incidents.\n",
    "\n",
    "    Detect: Tools like GuardDuty and CloudTrail.\n",
    "    Analyze: Use AWS Security Hub to correlate data across AWS accounts and services.\n",
    "    Contain: Use IAM to restrict access and AWS Firewall Manager for centralized firewall policy management.\n",
    "    Recover: Implement backup and recovery strategies using services like AWS Backup and Amazon S3."
   ]
  },
  {
   "cell_type": "markdown",
   "id": "415cccf1-660b-450e-8e74-f9689e0ffaca",
   "metadata": {},
   "source": [
    "<h3>AWS Compliance Services and Features</h3>\n",
    "\n",
    "<strong>AWS Compliance Center:</strong> Access resources and whitepapers for AWS compliance offerings.\n",
    "<br><strong>AWS Artifact:</strong> On-demand access to security and compliance reports.\n",
    "<br><strong>Customer Compliance:</strong> Customers must ensure compliance with specific regulatory requirements (e.g., data residency).\n",
    "<br><strong>Third-Party Audits:</strong> AWS undergoes regular third-party audits to certify compliance with international standards."
   ]
  }
 ],
 "metadata": {
  "kernelspec": {
   "display_name": "Python 3 (ipykernel)",
   "language": "python",
   "name": "python3"
  },
  "language_info": {
   "codemirror_mode": {
    "name": "ipython",
    "version": 3
   },
   "file_extension": ".py",
   "mimetype": "text/x-python",
   "name": "python",
   "nbconvert_exporter": "python",
   "pygments_lexer": "ipython3",
   "version": "3.9.12"
  }
 },
 "nbformat": 4,
 "nbformat_minor": 5
}
