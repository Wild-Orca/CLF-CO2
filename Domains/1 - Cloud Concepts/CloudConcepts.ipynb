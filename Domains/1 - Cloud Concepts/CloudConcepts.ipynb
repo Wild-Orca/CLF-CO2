{
 "cells": [
  {
   "cell_type": "markdown",
   "id": "b85b76b1-b51e-46ff-8472-a914cb87f312",
   "metadata": {},
   "source": [
    "<h1>Domain 1: Cloud Concepts</h1>"
   ]
  },
  {
   "cell_type": "markdown",
   "id": "531972d7-b93b-47b3-a410-8d3313864657",
   "metadata": {},
   "source": [
    "<h4>Define the AWS Cloud and its value proposition:</h4>\n",
    "\n",
    "Scalability: AWS services automatically scale to handle varying workloads.\n",
    "<br>Elasticity: Resources can be scaled up or down as needed without manual intervention.\n",
    "<br>Cost Savings: Pay-as-you-go pricing means you only pay for the resources you use.\n",
    "<br>Speed and Agility: Quickly deploy resources in minutes, allowing for rapid experimentation.\n",
    "<br>Global Reach: AWS has data centers worldwide, enabling lower latency and compliance with local regulations."
   ]
  },
  {
   "cell_type": "markdown",
   "id": "872047ab-841f-43e8-bb01-415ff3e5dfd9",
   "metadata": {},
   "source": [
    "<h4>Identify aspects of AWS Cloud economics</h4>\n",
    "\n",
    "Pay-as-you-go: Only pay for what you use, reducing upfront costs.\n",
    "<br>Reserved Instances: Save costs with one- or three-year commitments.\n",
    "<br>Spot Instances: Use spare capacity at a lower cost, ideal for flexible workloads.\n",
    "<br>Free Tier: Access to a range of free services to explore and experiment.\n",
    "<br>TCO (Total Cost of Ownership): AWS provides tools for estimating TCO and potential savings."
   ]
  },
  {
   "cell_type": "markdown",
   "id": "7c172862-43d2-4141-8044-1c324f942002",
   "metadata": {},
   "source": [
    "<h4>Explain the different cloud architecture design principles</h4>\n",
    "\n",
    "Design for Failure: Build systems with redundancy to handle component failure.\n",
    "<br>Decouple Components: Use services like Amazon SQS to reduce dependencies.\n",
    "<br>Implement Elasticity: Auto-scaling enables resources to adjust based on demand.\n",
    "<br>Automate Infrastructure: Use tools like AWS CloudFormation for infrastructure as code (IaC).\n",
    "<br>Optimize for Cost: Choose the right services, leverage pricing models, and continuously monitor usage."
   ]
  },
  {
   "cell_type": "markdown",
   "id": "ac6a0935-4f75-487a-86aa-eeaf1361ed31",
   "metadata": {},
   "source": [
    "<h4>Define Cloud Deployment Models</h4>\n",
    "\n",
    "Public Cloud: AWS owns and operates infrastructure, shared with multiple customers.\n",
    "<br>Private Cloud: Dedicated infrastructure for a single organization.\n",
    "<br>Hybrid Cloud: Combination of on-premises and cloud resources, enabling workload distribution."
   ]
  },
  {
   "cell_type": "markdown",
   "id": "c0036627-e8ab-48f5-af53-cdac28ef7d54",
   "metadata": {},
   "source": [
    "<h4>Benefits of Cloud Computing</h4>\n",
    "\n",
    "Trade Capital Expense for Variable Expense: No need to invest heavily in data centers.\n",
    "<br>Benefit from Massive Economies of Scale: AWS aggregates usage from millions of customers to reduce costs.\n",
    "<br>Increase Speed and Agility: Develop and deploy applications faster.\n",
    "<br>Stop Guessing Capacity: Auto-scaling removes the need to guess demand ahead of time.\n",
    "<br>Go Global in Minutes: Quickly deploy resources in multiple AWS regions worldwide."
   ]
  },
  {
   "cell_type": "markdown",
   "id": "71702d93-49bf-4c2d-9e14-289475444ebd",
   "metadata": {},
   "source": [
    "<h4>Identify the basic global infrastructure of the AWS Cloud</h4>\n",
    "\n",
    "Regions: Distinct geographic areas that host multiple data centers (Availability Zones). Each Region operates independently.\n",
    "<br>Availability Zones (AZs): Multiple, isolated locations within a Region that host data centers, offering redundancy.\n",
    "<br>Edge Locations: Locations globally for caching content via Amazon CloudFront to reduce latency for users.\n",
    "<br>Regional Edge Caches: Larger caching locations, between AWS Regions and Edge Locations, to cache content closer to end users.\n",
    "<br>Local Zones: Extends AWS services closer to large population and industry centers, reducing latency for specific applications.\n",
    "<br>AWS Outposts: AWS infrastructure deployed on-premises to support hybrid cloud environments."
   ]
  },
  {
   "cell_type": "markdown",
   "id": "415cccf1-660b-450e-8e74-f9689e0ffaca",
   "metadata": {},
   "source": [
    "<h4>Compare the different methods of interacting with AWS</h4>\n",
    "\n",
    "AWS Management Console: Web-based interface for managing AWS resources.\n",
    "<br>AWS Command Line Interface (CLI): Text-based interface for interacting with AWS services and scripting.\n",
    "<br>AWS SDKs: Software Development Kits for accessing AWS services programmatically in various programming languages.\n",
    "<br>AWS CloudShell: Browser-based CLI for managing AWS resources directly from the AWS Console."
   ]
  },
  {
   "cell_type": "markdown",
   "id": "c037d157-0cf1-46d8-a921-b7ffa9cf5be7",
   "metadata": {},
   "source": [
    "<h4>Identify sources of AWS documentation or assistance</h4>\n",
    "\n",
    "AWS Documentation: Comprehensive user guides, developer guides, and API references available on the AWS website.\n",
    "<br>AWS Knowledge Center: A library of FAQs on various topics for troubleshooting and learning.\n",
    "<br>AWS Support Plans: Range from free (basic) to enterprise support with options like Technical Account Managers (TAMs).\n",
    "<br>AWS Forums: Community-driven forums for AWS-related discussions and problem-solving.\n",
    "<br>AWS Training and Certification: Online courses, digital and classroom training for AWS knowledge building.\n",
    "<br>AWS Well-Architected Tool: Free tool to evaluate workloads based on AWS Well-Architected Framework best practices."
   ]
  },
  {
   "cell_type": "markdown",
   "id": "b6d1bef2-c991-4178-b036-baeaf454adc2",
   "metadata": {},
   "source": [
    "<h4>Describe the AWS Well-Architected Framework</h4>\n",
    "\n",
    "Operational Excellence: Supports running and monitoring systems to deliver business value and continually improve.\n",
    "<br>Security: Protects information, systems, and assets while delivering business value through risk assessments and mitigation.\n",
    "<br>Reliability: Ensures systems work as expected, with the ability to recover quickly from failures.\n",
    "<br>Performance Efficiency: Optimizes use of computing resources for efficiency and scalability.\n",
    "<br>Cost Optimization: Avoids unnecessary costs by using the appropriate number and types of resources."
   ]
  }
 ],
 "metadata": {
  "kernelspec": {
   "display_name": "Python 3 (ipykernel)",
   "language": "python",
   "name": "python3"
  },
  "language_info": {
   "codemirror_mode": {
    "name": "ipython",
    "version": 3
   },
   "file_extension": ".py",
   "mimetype": "text/x-python",
   "name": "python",
   "nbconvert_exporter": "python",
   "pygments_lexer": "ipython3",
   "version": "3.12.4"
  }
 },
 "nbformat": 4,
 "nbformat_minor": 5
}
