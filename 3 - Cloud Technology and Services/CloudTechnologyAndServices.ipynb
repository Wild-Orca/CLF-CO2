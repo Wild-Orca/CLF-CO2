{
 "cells": [
  {
   "cell_type": "markdown",
   "id": "b85b76b1-b51e-46ff-8472-a914cb87f312",
   "metadata": {},
   "source": [
    "<h1>Domain 3: Cloud Technology & Services</h1>"
   ]
  },
  {
   "cell_type": "markdown",
   "id": "531972d7-b93b-47b3-a410-8d3313864657",
   "metadata": {},
   "source": [
    "<h3>Identify Core AWS Services</h3>\n",
    "\n",
    "<strong>Compute:</strong>\n",
    "\n",
    "    Amazon EC2: Virtual servers in the cloud; scalable compute capacity.\n",
    "    AWS Lambda: Serverless compute; runs code in response to events without managing servers.\n",
    "    Elastic Beanstalk: Easy-to-use service for deploying and managing applications in various languages.\n",
    "    Amazon ECS: Container service for running and managing Docker containers at scale.\n",
    "\n",
    "<strong>Storage:</strong>\n",
    "\n",
    "    Amazon S3: Scalable object storage with high durability and availability.\n",
    "    Amazon EBS: Persistent block storage for use with Amazon EC2.\n",
    "    Amazon EFS: Managed file storage for EC2, provides a scalable file system.\n",
    "    Amazon S3 Glacier: Low-cost archival storage with retrieval times from minutes to hours.\n",
    "\n",
    "<strong>Database:</strong>\n",
    "\n",
    "    Amazon RDS: Managed relational database service for databases like MySQL, PostgreSQL, Oracle.\n",
    "    Amazon DynamoDB: NoSQL database service for high-scale applications.\n",
    "    Amazon Aurora: Relational database compatible with MySQL and PostgreSQL.\n",
    "    Amazon Redshift: Fully managed data warehouse for analytics at scale."
   ]
  },
  {
   "cell_type": "markdown",
   "id": "872047ab-841f-43e8-bb01-415ff3e5dfd9",
   "metadata": {},
   "source": [
    "<h3>Identify AWS Security Services and Features</h3>\n",
    "\n",
    "<strong>IAM (Identity and Access Management):</strong> Manages access to AWS services securely.\n",
    "<br><strong>Amazon Cognito:</strong> Adds user sign-up, sign-in, and access control to web and mobile applications.\n",
    "<br><strong>AWS Shield:</strong> Managed DDoS protection.\n",
    "<br><strong>AWS WAF (Web Application Firewall):</strong> Protects web applications from common threats.\n",
    "<br><strong>AWS Key Management Service (KMS):</strong> Managed service for creating and controlling encryption keys.\n",
    "<br><strong>AWS CloudTrail:</strong> Logs and monitors account activity across AWS infrastructure.\n",
    "<br><strong>AWS Trusted Advisor:</strong> Real-time guidance to help improve security, performance, and cost."
   ]
  },
  {
   "cell_type": "markdown",
   "id": "fc4fc546",
   "metadata": {},
   "source": [
    "<h3>Understand the AWS Global Infrastructure</h3>\n",
    "\n",
    "<strong>Regions:</strong> Geographic areas where AWS has multiple Availability Zones.\n",
    "<br><strong>Availability Zones (AZs):</strong> Isolated locations within regions for high availability.\n",
    "<br><strong>Edge Locations:</strong> Points of presence for content caching with Amazon CloudFront.\n",
    "<br><strong>AWS Local Zones:</strong> Extends AWS services closer to specific locations for low-latency applications.\n",
    "<br><strong>Regional Edge Caches:</strong> Caches content closer to users to reduce latency."
   ]
  },
  {
   "cell_type": "markdown",
   "id": "ddec0579",
   "metadata": {},
   "source": [
    "<h3>Explain the Different AWS Networking Capabilities</h3>\n",
    "\n",
    "<strong>VPC (Virtual Private Cloud):</strong> Enables isolated networking environments in AWS.\n",
    "<br><strong>Subnets:</strong> Divides VPC into smaller IP range sections; can be public or private.\n",
    "<br><strong>Route Tables:</strong> Controls the traffic routing between subnets in VPCs.\n",
    "<br><strong>NAT Gateways:</strong> Allows instances in a private subnet to connect to the internet.\n",
    "<br><strong>Direct Connect:</strong> Dedicated network connection from on-premises to AWS.\n",
    "<br><strong>Elastic Load Balancer:</strong> Distributes incoming application traffic across multiple targets.\n",
    "<br><strong>AWS CloudFront:</strong> Content delivery network to deliver content globally with low latency.\n",
    "<br><strong>Security Groups and Network ACLs:</strong> Control access at the instance and subnet levels."
   ]
  },
  {
   "cell_type": "markdown",
   "id": "bd8cec0d",
   "metadata": {},
   "source": [
    "<h3>Understand Different AWS Management Services</h3>\n",
    "\n",
    "<strong>AWS CloudFormation:</strong> Allows automated provisioning of infrastructure with code.\n",
    "<br><strong>AWS CloudTrail:</strong> Logs API calls and user activity for security and compliance.\n",
    "<br><strong>AWS CloudWatch:</strong> Monitoring and observability service for cloud resources.\n",
    "<br><strong>AWS Systems Manager:</strong> Centralized resource management service for operational data.\n",
    "<br><strong>AWS Trusted Advisor:</strong> Provides real-time guidance on AWS best practices for cost, security, performance, and fault tolerance."
   ]
  },
  {
   "cell_type": "markdown",
   "id": "74d5954f",
   "metadata": {},
   "source": [
    "<h3>Identify Key AWS AI/ML and Analytics Services</h3>\n",
    "\n",
    "<strong>Amazon SageMaker:</strong> Fully managed service for building, training, and deploying ML models.\n",
    "<br><strong>Amazon Rekognition:</strong> Image and video analysis for face and object detection.\n",
    "<br><strong>Amazon Comprehend:</strong> Natural language processing for extracting insights from text.\n",
    "<br><strong>Amazon Athena:</strong> Interactive query service to analyze data in Amazon S3 using SQL.\n",
    "<br><strong>Amazon QuickSight:</strong> Business intelligence service for creating and sharing dashboards.\n",
    "<br><strong>AWS Glue:</strong> ETL (extract, transform, load) service for preparing data for analytics."
   ]
  }
 ],
 "metadata": {
  "kernelspec": {
   "display_name": "Python 3 (ipykernel)",
   "language": "python",
   "name": "python3"
  },
  "language_info": {
   "codemirror_mode": {
    "name": "ipython",
    "version": 3
   },
   "file_extension": ".py",
   "mimetype": "text/x-python",
   "name": "python",
   "nbconvert_exporter": "python",
   "pygments_lexer": "ipython3",
   "version": "3.9.12"
  }
 },
 "nbformat": 4,
 "nbformat_minor": 5
}
