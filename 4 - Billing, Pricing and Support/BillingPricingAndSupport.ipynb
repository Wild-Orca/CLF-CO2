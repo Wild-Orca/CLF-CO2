{
 "cells": [
  {
   "cell_type": "markdown",
   "id": "b85b76b1-b51e-46ff-8472-a914cb87f312",
   "metadata": {},
   "source": [
    "<h1>Domain 4: Billing, Pricing, and Support</h1>"
   ]
  },
  {
   "cell_type": "markdown",
   "id": "531972d7-b93b-47b3-a410-8d3313864657",
   "metadata": {},
   "source": [
    "<h3>Compare and contrast the various pricing models for AWS</h3>\n",
    "\n",
    "<strong>Pay-As-You-Go:</strong> Charges based on actual usage; useful for resources with variable demand.\n",
    "<br><strong>Reserved Instances:</strong> Commit to a one- or three-year term for cost savings, ideal for steady-state usage.\n",
    "<br><strong>Spot Instances:</strong> Purchase unused capacity at a reduced rate, best for flexible or fault-tolerant workloads.\n",
    "<br><strong>Savings Plans:</strong> Flexible pricing models that offer savings based on a commitment to a specific usage amount over one or three years.\n",
    "<br><strong>Free Tier:</strong> Free access to various AWS services with limited usage for the first 12 months and always free offers."
   ]
  },
  {
   "cell_type": "markdown",
   "id": "872047ab-841f-43e8-bb01-415ff3e5dfd9",
   "metadata": {},
   "source": [
    "<h3>Recognize the different account structures in relation to billing and pricing</h3>\n",
    "\n",
    "<strong>AWS Organizations:</strong> Centrally manage multiple AWS accounts, organize them in Organizational Units (OUs), and implement Service Control Policies (SCPs).\n",
    "<br><strong>Consolidated Billing:</strong> Allows you to link multiple accounts under one master account for simplified billing and potential volume discounts.\n",
    "<br><strong>Cost Allocation Tags:</strong> Label resources with custom tags to categorize and track AWS costs.\n",
    "<br><strong>Billing Alerts and Alarms:</strong> Use AWS Budgets to set cost and usage alerts; integrates with Amazon CloudWatch for tracking."
   ]
  },
  {
   "cell_type": "markdown",
   "id": "fc4fc546",
   "metadata": {},
   "source": [
    "<h3>Identify resources available for billing support</h3>\n",
    "\n",
    "<strong>AWS Pricing Calculator:</strong> Estimate and calculate potential costs for AWS services.\n",
    "<br><strong>AWS Cost Explorer:</strong> Visualize, understand, and manage AWS costs over time with graphical representations.\n",
    "<br><strong>AWS Budgets:</strong> Set custom budgets to monitor cost and usage, receive alerts, and control spending.\n",
    "<br><strong>AWS Marketplace:</strong> Find, buy, and immediately start using software that runs on AWS. This also provides pricing details for third-party products.\n",
    "<br><strong>AWS Cost and Usage Report (CUR):</strong> Provides detailed AWS cost and usage information, available in Amazon S3 for customized analysis.\n",
    "<br><strong>AWS Trusted Advisor:</strong> Offers cost optimization checks (e.g., identifying underutilized resources) and best practice recommendations."
   ]
  },
  {
   "cell_type": "markdown",
   "id": "ddec0579",
   "metadata": {},
   "source": [
    "<h3>Explain the purpose of AWS Support Plans</h3>\n",
    "\n",
    "<strong>Basic Support (Free):</strong> Includes access to AWS documentation, whitepapers, support forums, and AWS Trusted Advisor's core checks.\n",
    "<br><strong>Developer Support:</strong> Starts at USD 29/month; provides email access to support during business hours and general guidance.\n",
    "<br><strong>Business Support:</strong> Starts at USD 100/month; includes 24/7 phone, chat, and email support, full access to AWS Trusted Advisor checks, and response to production system impairments.\n",
    "<br><strong>Enterprise Support:</strong> Starts at USD 15,000/month; includes all Business Support features plus a Technical Account Manager (TAM), Concierge Support Team, and assistance with architecture reviews and operational support."
   ]
  },
  {
   "cell_type": "markdown",
   "id": "bd8cec0d",
   "metadata": {},
   "source": [
    "<h3>Describe how to use cost management tools</h3>\n",
    "\n",
    "<strong>AWS Budgets:</strong> Set budget thresholds, receive alerts when usage exceeds defined limits, and control spending.\n",
    "<br><strong>AWS Cost Explorer:</strong> Analyze usage patterns, detect trends, and forecast future costs based on historical data.\n",
    "<br><strong>AWS Cost and Usage Reports (CUR):</strong> Gain access to the most detailed set of AWS cost and usage data available for in-depth analysis.\n",
    "<br><strong>AWS Billing Dashboard:</strong> View your monthly spend by service and account, analyze cost data, and manage bills and payments."
   ]
  },
  {
   "cell_type": "markdown",
   "id": "74d5954f",
   "metadata": {},
   "source": [
    "<h3>Differentiate between the AWS Pricing Calculator and the AWS Cost Explorer</h3>\n",
    "\n",
    "<strong>AWS Pricing Calculator:</strong> Used for planning purposes; helps estimate the cost of AWS services before deployment.\n",
    "<br><strong>AWS Cost Explorer:</strong> Provides a historical view of usage and costs, enabling trend analysis and forecast of future expenditures based on past usage."
   ]
  },
  {
   "cell_type": "markdown",
   "id": "19a20237",
   "metadata": {},
   "source": [
    "<h3>Explain the AWS Marketplace and how it impacts cost management</h3>\n",
    "\n",
    "<strong>AWS Marketplace:</strong> Online store for purchasing third-party software and services on AWS; offers pay-as-you-go pricing and flexible payment options.\n",
    "<br><strong>Impact on Cost Management:</strong> Enables easy software deployment with pricing transparency and options for volume-based discounts."
   ]
  },
  {
   "cell_type": "markdown",
   "id": "d8f11209",
   "metadata": {},
   "source": [
    "<h3>Understand the AWS Free Tier and its limitations</h3>\n",
    "\n",
    "<strong>12-Month Free Tier:</strong> Limited access to specific AWS services free for the first 12 months (e.g., 750 hours/month for EC2, 5 GB for S3).\n",
    "<br><strong>Always Free Tier:</strong> Includes services with a monthly usage limit available for free indefinitely (e.g., Lambda, DynamoDB, CloudWatch).\n",
    "<br><strong>Free Tier Limits: Exceeding the free tier thresholds will result in standard service charges."
   ]
  }
 ],
 "metadata": {
  "kernelspec": {
   "display_name": "Python 3 (ipykernel)",
   "language": "python",
   "name": "python3"
  },
  "language_info": {
   "codemirror_mode": {
    "name": "ipython",
    "version": 3
   },
   "file_extension": ".py",
   "mimetype": "text/x-python",
   "name": "python",
   "nbconvert_exporter": "python",
   "pygments_lexer": "ipython3",
   "version": "3.9.12"
  }
 },
 "nbformat": 4,
 "nbformat_minor": 5
}
