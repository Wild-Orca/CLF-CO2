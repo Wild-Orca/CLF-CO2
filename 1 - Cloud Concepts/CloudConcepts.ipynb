{
 "cells": [
  {
   "cell_type": "markdown",
   "id": "b85b76b1-b51e-46ff-8472-a914cb87f312",
   "metadata": {},
   "source": [
    "<h1>Domain 1: Cloud Concepts</h1>"
   ]
  },
  {
   "cell_type": "markdown",
   "id": "531972d7-b93b-47b3-a410-8d3313864657",
   "metadata": {},
   "source": [
    "<h3>Define the AWS Cloud and its value proposition</h3>\n",
    "\n",
    "<strong>Scalability:</strong> AWS services automatically scale to handle varying workloads.\n",
    "<br><strong>Elasticity:</strong> Resources can be scaled up or down as needed without manual intervention.\n",
    "<br><strong>Cost Savings:</strong> Pay-as-you-go pricing means you only pay for the resources you use.\n",
    "<br><strong>Speed and Agility:</strong> Quickly deploy resources in minutes, allowing for rapid experimentation.\n",
    "<br><strong>Global Reach:</strong> AWS has data centers worldwide, enabling lower latency and compliance with local regulations."
   ]
  },
  {
   "cell_type": "markdown",
   "id": "872047ab-841f-43e8-bb01-415ff3e5dfd9",
   "metadata": {},
   "source": [
    "<h3>Identify aspects of AWS Cloud economics</h3>\n",
    "\n",
    "<strong>Pay-as-you-go:</strong> Only pay for what you use, reducing upfront costs.\n",
    "<br><strong>Reserved Instances:</strong> Save costs with one- or three-year commitments.\n",
    "<br><strong>Spot Instances:</strong> Use spare capacity at a lower cost, ideal for flexible workloads.\n",
    "<br><strong>Free Tier:</strong> Access to a range of free services to explore and experiment.\n",
    "<br><strong>TCO (Total Cost of Ownership):</strong> AWS provides tools for estimating TCO and potential savings."
   ]
  },
  {
   "cell_type": "markdown",
   "id": "7c172862-43d2-4141-8044-1c324f942002",
   "metadata": {},
   "source": [
    "<h3>Explain the different cloud architecture design principles</h3>\n",
    "\n",
    "<strong>Design for Failure: Build systems with redundancy to handle component failure.\n",
    "<br><strong>Decouple Components:</strong> Use services like Amazon SQS to reduce dependencies.\n",
    "<br><strong>Implement Elasticity:</strong> Auto-scaling enables resources to adjust based on demand.\n",
    "<br><strong>Automate Infrastructure:</strong> Use tools like AWS CloudFormation for infrastructure as code (IaC).\n",
    "<br><strong>Optimize for Cost:</strong> Choose the right services, leverage pricing models, and continuously monitor usage."
   ]
  },
  {
   "cell_type": "markdown",
   "id": "ac6a0935-4f75-487a-86aa-eeaf1361ed31",
   "metadata": {},
   "source": [
    "<h3>Define Cloud Deployment Models</h3>\n",
    "\n",
    "<strong>Public Cloud:</strong> AWS owns and operates infrastructure, shared with multiple customers.\n",
    "<br><strong>Private Cloud:</strong> Dedicated infrastructure for a single organization.\n",
    "<br><strong>Hybrid Cloud:</strong> Combination of on-premises and cloud resources, enabling workload distribution."
   ]
  },
  {
   "cell_type": "markdown",
   "id": "c0036627-e8ab-48f5-af53-cdac28ef7d54",
   "metadata": {},
   "source": [
    "<h3>Benefits of Cloud Computing</h3>\n",
    "\n",
    "<strong>Trade Capital Expense for Variable Expense:</strong> No need to invest heavily in data centers.\n",
    "<br><strong>Benefit from Massive Economies of Scale:</strong> AWS aggregates usage from millions of customers to reduce costs.\n",
    "<br><strong>Increase Speed and Agility:</strong> Develop and deploy applications faster.\n",
    "<br><strong>Stop Guessing Capacity:</strong> Auto-scaling removes the need to guess demand ahead of time.\n",
    "<br><strong>Go Global in Minutes:</strong> Quickly deploy resources in multiple AWS regions worldwide."
   ]
  },
  {
   "cell_type": "markdown",
   "id": "71702d93-49bf-4c2d-9e14-289475444ebd",
   "metadata": {},
   "source": [
    "<h3>Identify the basic global infrastructure of the AWS Cloud</h3>\n",
    "\n",
    "<strong>Regions:</strong> Distinct geographic areas that host multiple data centers (Availability Zones). Each Region operates independently.\n",
    "<br><strong>Availability Zones (AZs):</strong> Multiple, isolated locations within a Region that host data centers, offering redundancy.\n",
    "<br><strong>Edge Locations:</strong> Locations globally for caching content via Amazon CloudFront to reduce latency for users.\n",
    "<br><strong>Regional Edge Caches:</strong> Larger caching locations, between AWS Regions and Edge Locations, to cache content closer to end users.\n",
    "<br><strong>Local Zones:</strong> Extends AWS services closer to large population and industry centers, reducing latency for specific applications.\n",
    "<br><strong>AWS Outposts:</strong> AWS infrastructure deployed on-premises to support hybrid cloud environments."
   ]
  },
  {
   "cell_type": "markdown",
   "id": "415cccf1-660b-450e-8e74-f9689e0ffaca",
   "metadata": {},
   "source": [
    "<h3>Compare the different methods of interacting with AWS</h3>\n",
    "\n",
    "<strong>AWS Management Console:</strong> Web-based interface for managing AWS resources.\n",
    "<br><strong>AWS Command Line Interface (CLI):</strong> Text-based interface for interacting with AWS services and scripting.\n",
    "<br><strong>AWS SDKs:</strong> Software Development Kits for accessing AWS services programmatically in various programming languages.\n",
    "<br><strong>AWS CloudShell:</strong> Browser-based CLI for managing AWS resources directly from the AWS Console."
   ]
  },
  {
   "cell_type": "markdown",
   "id": "c037d157-0cf1-46d8-a921-b7ffa9cf5be7",
   "metadata": {},
   "source": [
    "<h3>Identify sources of AWS documentation or assistance</h3>\n",
    "\n",
    "<strong>AWS Documentation:</strong> Comprehensive user guides, developer guides, and API references available on the AWS website.\n",
    "<br><strong>AWS Knowledge Center:</strong> A library of FAQs on various topics for troubleshooting and learning.\n",
    "<br><strong>AWS Support Plans:</strong> Range from free (basic) to enterprise support with options like Technical Account Managers (TAMs).\n",
    "<br><strong>AWS Forums:</strong> Community-driven forums for AWS-related discussions and problem-solving.\n",
    "<br><strong>AWS Training and Certification:</strong> Online courses, digital and classroom training for AWS knowledge building.\n",
    "<br><strong>AWS Well-Architected Tool:</strong> Free tool to evaluate workloads based on AWS Well-Architected Framework best practices."
   ]
  },
  {
   "cell_type": "markdown",
   "id": "b6d1bef2-c991-4178-b036-baeaf454adc2",
   "metadata": {},
   "source": [
    "<h3>Describe the AWS Well-Architected Framework</h3>\n",
    "\n",
    "<strong>Operational Excellence:</strong> Supports running and monitoring systems to deliver business value and continually improve.\n",
    "<br><strong>Security:</strong> Protects information, systems, and assets while delivering business value through risk assessments and mitigation.\n",
    "<br><strong>Reliability:</strong> Ensures systems work as expected, with the ability to recover quickly from failures.\n",
    "<br><strong>Performance Efficiency:</strong> Optimizes use of computing resources for efficiency and scalability.\n",
    "<br><strong>Cost Optimization:</strong> Avoids unnecessary costs by using the appropriate number and types of resources."
   ]
  }
 ],
 "metadata": {
  "kernelspec": {
   "display_name": "Python 3 (ipykernel)",
   "language": "python",
   "name": "python3"
  },
  "language_info": {
   "codemirror_mode": {
    "name": "ipython",
    "version": 3
   },
   "file_extension": ".py",
   "mimetype": "text/x-python",
   "name": "python",
   "nbconvert_exporter": "python",
   "pygments_lexer": "ipython3",
   "version": "3.9.12"
  }
 },
 "nbformat": 4,
 "nbformat_minor": 5
}
